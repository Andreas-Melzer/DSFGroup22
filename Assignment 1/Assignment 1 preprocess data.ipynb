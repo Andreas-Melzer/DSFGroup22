{
 "cells": [
  {
   "cell_type": "markdown",
   "metadata": {},
   "source": [
    "# Imports"
   ]
  },
  {
   "cell_type": "code",
   "execution_count": 93,
   "metadata": {},
   "outputs": [],
   "source": [
    "import os\n",
    "import pandas as pd\n",
    "import numpy as np\n",
    "import string,gzip,pickle,time,json,re,nltk\n",
    "from nltk.corpus import stopwords\n",
    "from nltk.stem import *\n",
    "from nltk.tokenize import RegexpTokenizer\n",
    "from tqdm import tqdm\n",
    "from math import sqrt\n",
    "from joblib import Parallel, delayed\n",
    "from sklearn.feature_extraction.text import TfidfVectorizer,CountVectorizer\n",
    "from sklearn.decomposition import LatentDirichletAllocation as LDA\n",
    "from spellchecker import SpellChecker\n",
    "from datetime import datetime\n",
    "import matplotlib.pyplot as plt\n",
    "\n",
    "regex_tokenizer = RegexpTokenizer(r'[a-zA-Z]+')   \n",
    "local_stopwords = set(stopwords.words('english'))\n",
    "local_stopwords = [re.sub(r'[^\\w\\s]','', i) for i in local_stopwords]\n",
    "stemmer = PorterStemmer()"
   ]
  },
  {
   "cell_type": "markdown",
   "metadata": {},
   "source": [
    "# Text processing functions"
   ]
  },
  {
   "cell_type": "code",
   "execution_count": 130,
   "metadata": {},
   "outputs": [],
   "source": [
    "#tokenize review\n",
    "def RemoveHashURLMail(sentence):\n",
    "    sentence = sentence.lower();\n",
    "    sentence = re.sub(r\"http\\S+\", \"\", sentence)\n",
    "    sentence = re.sub(r\"@\\S+\", \"\", sentence)\n",
    "    sentence = re.sub(r\"#\\S+\", \"\", sentence)\n",
    "    #sentence = list(map( lambda word: re.sub('[^a-zA-Z]+', '', word) ,sentence))\n",
    "    return sentence.strip()\n",
    "\n",
    "def TokenizeSentence(sentence):\n",
    "    sentence = regex_tokenizer.tokenize(sentence);\n",
    "    #sentence = list(map( lambda word: re.sub('[^a-zA-Z]+', '', word) ,sentence))\n",
    "    return sentence\n",
    "\n",
    "def RemoveStopwords():\n",
    "    sentence = list(filter(lambda word: word not in local_stopwords, sentence))\n",
    "    \n",
    "def RemoveNonAlphaNonEnglish(sentence):\n",
    "    sentence = list(filter(lambda word: word.isalpha, sentence))\n",
    "    sentence = list(filter( lambda word: isEnglish(word) ,sentence))\n",
    "    return sentence\n",
    "\n",
    "def StemSentence(sentence):\n",
    "    sentence = [stemmer.stem(word) for word in sentence];\n",
    "    return sentence\n",
    "\n",
    "def isEnglish(sentence):\n",
    "    return sentence.translate(string.punctuation).isalnum();\n",
    "\n",
    "def GenerateNgrams(sentence, n_gram_length=1):\n",
    "    # Break sentence in the token, remove empty tokens\n",
    "    tokens = [token for token in sentence.split(\" \") if token != \"\"]\n",
    "    \n",
    "    # Use the zip function to help us generate n-grams\n",
    "    # Concatentate the tokens into ngrams and return\n",
    "    ngrams = zip(*[tokens[i:] for i in range(n_gram_length)])\n",
    "    return [\" \".join(ngram) for ngram in ngrams]"
   ]
  },
  {
   "cell_type": "markdown",
   "metadata": {},
   "source": [
    "# 1. Data Preprocessing\n",
    "### Data is processed in memory joblib is used to proces multiply tweets at once\n",
    "\n",
    "## 1.1 JSON to dataframe"
   ]
  },
  {
   "cell_type": "code",
   "execution_count": 41,
   "metadata": {},
   "outputs": [
    {
     "name": "stderr",
     "output_type": "stream",
     "text": [
      "100%|██████████| 657307/657307 [01:53<00:00, 5785.86it/s]\n"
     ]
    }
   ],
   "source": [
    "tweetFilePath = r'C:\\Users\\Andreas\\Python\\DSF\\Assignment\\data\\geotagged_tweets_20160812-0912.jsons' \n",
    "\n",
    "with open(tweetFilePath) as f:\n",
    "    tweetsFile = f.readlines()\n",
    "#using parallel processing\n",
    "tweetsJSON = [Parallel(n_jobs=16)(delayed(json.loads)(tweet) for tweet in tqdm(tweetsFile))]\n",
    "tweetsFile = []"
   ]
  },
  {
   "cell_type": "code",
   "execution_count": 128,
   "metadata": {},
   "outputs": [],
   "source": [
    "#defining helper functions for feature extraction\n",
    "def ExtractPlaceFullName(tweet):\n",
    "    try:\n",
    "        return tweet['place']['full_name']\n",
    "    except Exception as e:\n",
    "        return ''  \n",
    "    \n",
    "def ExtractPlaceName(tweet):\n",
    "    try:\n",
    "        return tweet['place']['name']\n",
    "    except Exception as e:\n",
    "        return ''  \n",
    "       \n",
    "def ExtractCountry(tweet):\n",
    "    try:\n",
    "        return tweet['place']['country']\n",
    "    except Exception as e:\n",
    "        return ''   \n",
    "    \n",
    "def ExtractScreenName(mentions):\n",
    "    try:\n",
    "        return [mention['screen_name'].lower() for mention in mentions]\n",
    "    except Exception as e:\n",
    "        return []    \n",
    "    \n",
    "def ExtractHashtag(mentions):\n",
    "    try:\n",
    "        return [mention['text'].lower() for mention in mentions]\n",
    "    except Exception as e:\n",
    "        return []\n",
    "    \n"
   ]
  },
  {
   "cell_type": "code",
   "execution_count": 43,
   "metadata": {},
   "outputs": [],
   "source": [
    "#extracting usefull features from teweets\n",
    "tweetText = [ tweet['text'] for tweet in  tweetsJSON[0]]\n",
    "tweetTimestamp = [  datetime.strptime(tweet['created_at'],'%a %b %d %H:%M:%S +0000 %Y') for tweet in  tweetsJSON[0]]\n",
    "tweetPlaceFullName= [ExtractPlaceFullName(tweet) for tweet in  tweetsJSON[0]]\n",
    "tweetPlaceName= [ExtractPlaceName(tweet) for tweet in  tweetsJSON[0]]\n",
    "tweetPlaceCountry = [ExtractCountry(tweet) for tweet in  tweetsJSON[0]]\n",
    "tweetIsQuoteStatus = [tweet['is_quote_status'] for tweet in  tweetsJSON[0]]\n",
    "tweetIsRetweeted = [tweet['retweeted'] for tweet in  tweetsJSON[0]]\n",
    "tweetUserID = [tweet['user']['id'] for tweet in  tweetsJSON[0]]\n",
    "tweetFollowersCount = [tweet['user']['followers_count'] for tweet in  tweetsJSON[0]]\n",
    "tweetEntities = [ExtractScreenName(entity) for entity in [entity['user_mentions'] for entity in [tweet['entities'] for tweet in  tweetsJSON[0]]]]\n",
    "tweetHashtags = [ExtractHashtag(entity) for entity in [entity['hashtags'] for entity in [tweet['entities'] for tweet in  tweetsJSON[0]]]]\n",
    "tweetsDataframe = pd.DataFrame({\"userID\":tweetUserID,\n",
    "                                \"followersCount\":tweetFollowersCount,\n",
    "                                \"text\":tweetText,\n",
    "                                \"tDatetime\":tweetTimestamp,\n",
    "                                \"country\":tweetPlaceCountry,\n",
    "                                \"placeFullName\":tweetPlaceFullName,\n",
    "                                \"placeName\":tweetPlaceName,\n",
    "                                \"isRetweeted\":tweetIsRetweeted,\n",
    "                                \"isQuote\":tweetIsQuoteStatus,\n",
    "                                \"entities\":tweetEntities,\n",
    "                                \"hashtags\":tweetHashtags})\n"
   ]
  },
  {
   "cell_type": "markdown",
   "metadata": {},
   "source": [
    "## 1.2 Add state name\n",
    "\n",
    "### Tweets that are from outside the US are removed resulting\n",
    "\n",
    "### A list of State names with responding abbrevation is retrieved from\n",
    "https://www.factmonster.com/us/postal-information/state-abbreviations-and-state-postal-codes"
   ]
  },
  {
   "cell_type": "code",
   "execution_count": 145,
   "metadata": {},
   "outputs": [],
   "source": [
    "stateCodeToNames = pd.read_html('https://www.factmonster.com/us/postal-information/state-abbreviations-and-state-postal-codes',header=0)[0]\n",
    "stateCodeToNames.set_index('Postalcode',inplace = True)"
   ]
  },
  {
   "cell_type": "code",
   "execution_count": 151,
   "metadata": {},
   "outputs": [],
   "source": [
    "def getState(placeFullName,country):\n",
    "    state =''\n",
    "    if placeFullName[-3:-2] == ' ' and country == 'United States':\n",
    "        stateAbbr = placeFullName[-2:];\n",
    "        if stateAbbr in stateCodeToNames.index:\n",
    "            state = stateCodeToNames.loc[stateAbbr].State\n",
    "    elif country == 'United States':\n",
    "        str.find(placeFullName,',')\n",
    "        state = placeFullName[0:str.find(placeFullName,',')]\n",
    "        if state not in stateCodeToNames.State.tolist():\n",
    "            state = ''\n",
    "    return state"
   ]
  },
  {
   "cell_type": "code",
   "execution_count": null,
   "metadata": {},
   "outputs": [],
   "source": [
    "tweetState = [getState(placeFullName,country) for placeFullName,country in tqdm(tweetsDataframe[['placeFullName','country']].values)]\n",
    "tweetsDataframe['state'] = tweetState"
   ]
  },
  {
   "cell_type": "code",
   "execution_count": 155,
   "metadata": {},
   "outputs": [],
   "source": [
    "#removing all tweets from outside the us\n",
    "tweetsDataframe= tweetsDataframe[tweetsDataframe['state'] != '']\n",
    "tweetsDataframe.to_pickle('tweetsPickle.pickle')"
   ]
  },
  {
   "cell_type": "markdown",
   "metadata": {},
   "source": [
    "## 1.3 Deduce who tweet is about\n",
    "\n",
    "### Simply version is based on partial string matching\n",
    "### More complex version is based on a vector space model"
   ]
  },
  {
   "cell_type": "code",
   "execution_count": 3,
   "metadata": {
    "collapsed": true
   },
   "outputs": [
    {
     "name": "stderr",
     "output_type": "stream",
     "text": [
      "C:\\Users\\Andreas\\Anaconda3\\lib\\site-packages\\ipykernel_launcher.py:9: SettingWithCopyWarning: \n",
      "A value is trying to be set on a copy of a slice from a DataFrame\n",
      "\n",
      "See the caveats in the documentation: http://pandas.pydata.org/pandas-docs/stable/indexing.html#indexing-view-versus-copy\n",
      "  if __name__ == '__main__':\n",
      "C:\\Users\\Andreas\\Anaconda3\\lib\\site-packages\\ipykernel_launcher.py:10: SettingWithCopyWarning: \n",
      "A value is trying to be set on a copy of a slice from a DataFrame\n",
      "\n",
      "See the caveats in the documentation: http://pandas.pydata.org/pandas-docs/stable/indexing.html#indexing-view-versus-copy\n",
      "  # Remove the CWD from sys.path while we load stuff.\n"
     ]
    }
   ],
   "source": [
    "#creating a few indicators if hillary clinton or donald trump is mentioned\n",
    "tweetsDataframe['hasHillary'] = tweetsDataframe.text.str.contains('@HillaryClinton')\n",
    "tweetsDataframe['hasDonaldTrump'] = tweetsDataframe.text.str.contains('@realDonaldTrump')\n",
    "\n",
    "tweetsDataframe['mentionsCandidate'] = 'Both'\n",
    "tweetsDataframe['mentionsCandidate'][tweetsDataframe['hasDonaldTrump'] & ~tweetsDataframe['hasHillary']] = 'Donald Trump'\n",
    "tweetsDataframe['mentionsCandidate'][ ~tweetsDataframe['hasDonaldTrump'] & tweetsDataframe['hasHillary']] = 'Hillary Clinton'"
   ]
  },
  {
   "cell_type": "code",
   "execution_count": 150,
   "metadata": {},
   "outputs": [],
   "source": [
    "#remove all tweets that don't mention anyone or anything\n",
    "tweetsDataframe = tweetsDataframe[[len(t) >= 1 for t in tweetsDataframe['hashtags'] + tweetsDataframe['entities']]]\n",
    "tweetsDataframe.to_pickle('tweetsPickle_onlymentions.pickle')"
   ]
  },
  {
   "cell_type": "markdown",
   "metadata": {},
   "source": [
    "### finding the 30 most common hashtags or mentions \n",
    "using the count vectorizer to create a document term matrix this results in a spase matrix\n",
    "\n",
    "then we can extract our list from there"
   ]
  },
  {
   "cell_type": "code",
   "execution_count": null,
   "metadata": {},
   "outputs": [],
   "source": [
    "tweetsDataframe = pd.read_pickle('tweetsPickle_onlymentions.pickle')"
   ]
  },
  {
   "cell_type": "code",
   "execution_count": 5,
   "metadata": {},
   "outputs": [],
   "source": [
    "vectorizer=  CountVectorizer();\n",
    "tweetTDM = vectorizer.fit_transform([' '.join(t) for t in tweetsDataframe['allEntities']])"
   ]
  },
  {
   "cell_type": "code",
   "execution_count": 7,
   "metadata": {},
   "outputs": [],
   "source": [
    "keywordCounts= np.asarray(tweetTDM.sum(axis=0))[0]\n",
    "keywordRank = np.argsort(np.asarray(tweetTDM.sum(axis=0)))[0].tolist()\n",
    "featureNames = vectorizer.get_feature_names()"
   ]
  },
  {
   "cell_type": "code",
   "execution_count": 8,
   "metadata": {},
   "outputs": [
    {
     "name": "stdout",
     "output_type": "stream",
     "text": [
      "{'realdonaldtrump': 291691, 'hillaryclinton': 141011, 'trump': 48823, 'foxnews': 24050, 'nevertrump': 20350, 'cnn': 19618, 'maga': 17740, 'imwithher': 16963, 'neverhillary': 14280, 'hillary': 12814, 'trumppence16': 12603, 'crookedhillary': 10915, 'donaldtrump': 10584, 'seanhannity': 8438, 'kellyannepolls': 7773, 'msnbc': 7471, 'potus': 6822, 'gop': 6022, 'trumptrain': 5560, 'politico': 4586, 'nytimes': 4579, 'mike_pence': 4005, 'reince': 3842, 'morning_joe': 3750, 'dumptrump': 3629, 'makeamericagreatagain': 3561, 'erictrump': 3322, 'danscavino': 3295, 'greta': 3236, 'donaldjtrumpjr': 3218}\n"
     ]
    }
   ],
   "source": [
    "wordList = [featureNames[i] for i in keywordCounts.argsort()[::-1][:30]]\n",
    "countList = [keywordCounts[i] for i in keywordCounts.argsort()[::-1][:30]]\n",
    "print(dict(zip(wordList,countList)))"
   ]
  },
  {
   "cell_type": "markdown",
   "metadata": {},
   "source": [
    "### First trying LDA on hastags / mentions\n",
    "\n",
    "https://scikit-learn.org/stable/modules/generated/sklearn.decomposition.LatentDirichletAllocation.html\n",
    "\n",
    "Can we identify the candidates from the resulting topics?"
   ]
  },
  {
   "cell_type": "code",
   "execution_count": 17,
   "metadata": {},
   "outputs": [],
   "source": [
    "nKeywords = 400\n",
    "lda = LDA(n_components=20, n_jobs=-1)\n",
    "lda.fit(tweetTDM.T[keywordCounts.argsort()[::-1][:nKeywords]].T)"
   ]
  },
  {
   "cell_type": "code",
   "execution_count": 14,
   "metadata": {},
   "outputs": [],
   "source": [
    "def printTopics(model, vectorizer):\n",
    "    words  = [featureNames[i] for i in keywordCounts.argsort()[::-1][:nKeywords]]\n",
    "    for topic_idx, topic in enumerate(model.components_):\n",
    "        print(\"\\nTopic #%d:\" % topic_idx)\n",
    "        print(\" \".join([words[i]\n",
    "                        for i in topic.argsort()[:-2 - 1:-1]]))"
   ]
  },
  {
   "cell_type": "code",
   "execution_count": 15,
   "metadata": {
    "scrolled": true
   },
   "outputs": [
    {
     "name": "stdout",
     "output_type": "stream",
     "text": [
      "\n",
      "Topic #0:\n",
      "hillary obama\n",
      "\n",
      "Topic #1:\n",
      "imwithher strongertogether\n",
      "\n",
      "Topic #2:\n",
      "nevertrump realdonaldtrump\n",
      "\n",
      "Topic #3:\n",
      "realdonaldtrump hillaryclinton\n",
      "\n",
      "Topic #4:\n",
      "trumppence16 hfa\n",
      "\n",
      "Topic #5:\n",
      "realdonaldtrump hillaryclinton\n",
      "\n",
      "Topic #6:\n",
      "neverhillary youtube\n",
      "\n",
      "Topic #7:\n",
      "cnn realdonaldtrump\n",
      "\n",
      "Topic #8:\n",
      "makeamericagreatagain trumptrain\n",
      "\n",
      "Topic #9:\n",
      "maga realdonaldtrump\n",
      "\n",
      "Topic #10:\n",
      "realdonaldtrump donaldtrump\n",
      "\n",
      "Topic #11:\n",
      "realdonaldtrump kellyannepolls\n",
      "\n",
      "Topic #12:\n",
      "crookedhillary neverhillary\n",
      "\n",
      "Topic #13:\n",
      "realdonaldtrump hillaryclinton\n",
      "\n",
      "Topic #14:\n",
      "realdonaldtrump morning_joe\n",
      "\n",
      "Topic #15:\n",
      "realdonaldtrump seanhannity\n",
      "\n",
      "Topic #16:\n",
      "hillaryclinton foxnews\n",
      "\n",
      "Topic #17:\n",
      "trump seanspicer\n",
      "\n",
      "Topic #18:\n",
      "realdonaldtrump colmorrisdavis\n",
      "\n",
      "Topic #19:\n",
      "realdonaldtrump foxandfriends\n"
     ]
    }
   ],
   "source": [
    "printTopics(lda,vectorizer)"
   ]
  },
  {
   "cell_type": "markdown",
   "metadata": {},
   "source": [
    "### Topics are manually allotted to candiates"
   ]
  },
  {
   "cell_type": "code",
   "execution_count": 53,
   "metadata": {},
   "outputs": [],
   "source": [
    "hillaryTopics = [0,1,6,12,16]\n",
    "trumpTopics = [2,4,7,8,9,10,11,14,15,17,18,19]\n",
    "both = [3,5,13]\n",
    "topics= {}\n",
    "\n",
    "for i in hillaryTopics:\n",
    "    topics[i] = 'Hillary Clinton'    \n",
    "for i in trumpTopics:\n",
    "    topics[i] = 'Donald Trump'  \n",
    "for i in both:\n",
    "    topics[i] = 'Both'  "
   ]
  },
  {
   "cell_type": "code",
   "execution_count": 88,
   "metadata": {},
   "outputs": [],
   "source": [
    "allotTopics = lda.transform(tweetTDM.T[keywordCounts.argsort()[::-1][:nKeywords]].T)\n",
    "tweetCandidate = allotTopics.argmax(axis=1)\n",
    "tweetsDataframe['candidate'] = [topics[i] for i in tweetTopics]"
   ]
  },
  {
   "cell_type": "code",
   "execution_count": 125,
   "metadata": {},
   "outputs": [
    {
     "data": {
      "text/plain": [
       "([<matplotlib.patches.Wedge at 0x24d9efa5828>,\n",
       "  <matplotlib.patches.Wedge at 0x24d9efae2b0>,\n",
       "  <matplotlib.patches.Wedge at 0x24d9efaed30>],\n",
       " [Text(-0.324909,-1.05092,'Donald Trump'),\n",
       "  Text(0.579436,0.935015,'Hillary Clinton'),\n",
       "  Text(-0.695018,0.978238,'Both')],\n",
       " [Text(-0.177223,-0.573229,'62.7%'),\n",
       "  Text(0.316056,0.510008,'29.2%'),\n",
       "  Text(-0.405427,0.570639,'8.1%')])"
      ]
     },
     "execution_count": 125,
     "metadata": {},
     "output_type": "execute_result"
    },
    {
     "data": {
      "image/png": "[encoded data removed]",
      "text/plain": [
       "<Figure size 432x288 with 1 Axes>"
      ]
     },
     "metadata": {},
     "output_type": "display_data"
    }
   ],
   "source": [
    "explode = (0, 0, 0.1)\n",
    "# Plot\n",
    "plt.pie(tweetsDataframe.candidate.value_counts().tolist(), \n",
    "        explode=explode, \n",
    "        labels=tweetsDataframe.candidate.value_counts().keys(), \n",
    "        autopct='%1.1f%%',\n",
    "        shadow=True, \n",
    "        startangle=140)"
   ]
  },
  {
   "cell_type": "markdown",
   "metadata": {},
   "source": [
    "### Trying  kmeans for unsupervised clustering\n",
    "\n",
    "kmeans https://scikit-learn.org/stable/modules/generated/sklearn.cluster.KMeans.html\n",
    "![Alt Text](https://media.giphy.com/media/3NKUcoyBzkXQc/giphy.gif)\n"
   ]
  },
  {
   "cell_type": "code",
   "execution_count": 298,
   "metadata": {},
   "outputs": [],
   "source": [
    "from sklearn.cluster import KMeans,MeanShift"
   ]
  },
  {
   "cell_type": "code",
   "execution_count": 291,
   "metadata": {},
   "outputs": [],
   "source": [
    "nKeywords = 100\n",
    "tweetTDMReduced = tweetTDM.T[keywordCounts.argsort()[::-1][:nKeywords]].T.toarray()\n",
    "words = [featureNames[i] for i in keywordCounts.argsort()[::-1][:nKeywords]]"
   ]
  },
  {
   "cell_type": "code",
   "execution_count": 292,
   "metadata": {},
   "outputs": [],
   "source": [
    "tweetClusters = KMeans(n_clusters=30, random_state=0, algorithm='full').fit(tweetTDMReduced)"
   ]
  },
  {
   "cell_type": "code",
   "execution_count": 296,
   "metadata": {},
   "outputs": [],
   "source": [
    "def printClusters(tweetClusters):\n",
    "    for cluster in tweetClusters.cluster_centers_:\n",
    "        print('cluster {} words: '.format(cnt) +' '.join([words[i] for i in np.nonzero(cluster >= 0.90)[0].tolist()]))"
   ]
  },
  {
   "cell_type": "code",
   "execution_count": 297,
   "metadata": {},
   "outputs": [
    {
     "name": "stdout",
     "output_type": "stream",
     "text": [
      "cluster 1 words: realdonaldtrump\n",
      "cluster 2 words: hillaryclinton\n",
      "cluster 3 words: nevertrump\n",
      "cluster 4 words: donaldtrump\n",
      "cluster 5 words: \n",
      "cluster 6 words: realdonaldtrump cnn\n",
      "cluster 7 words: neverhillary\n",
      "cluster 8 words: trump\n",
      "cluster 9 words: hillary\n",
      "cluster 10 words: neverhillary\n",
      "cluster 11 words: realdonaldtrump morningmika\n",
      "cluster 12 words: realdonaldtrump hillaryclinton\n",
      "cluster 13 words: imwithher\n",
      "cluster 14 words: maga\n",
      "cluster 15 words: realdonaldtrump foxnews\n"
     ]
    }
   ],
   "source": [
    "printClusters(tweetClusters)"
   ]
  },
  {
   "cell_type": "markdown",
   "metadata": {},
   "source": [
    "## 1.4 Tokenize and stem tweets and remove stopwords\n",
    "### In this step the tweets are preprocesed to allow for topic modelling"
   ]
  },
  {
   "cell_type": "code",
   "execution_count": null,
   "metadata": {},
   "outputs": [],
   "source": [
    "tweetsPlainText = Parallel(n_jobs=16)(delayed(RemoveHashURLMail)(text) for text in tqdm(tweetsDataframe['text']))\n",
    "tweetsDataframe['plainText'] =tweetsPlainText"
   ]
  },
  {
   "cell_type": "code",
   "execution_count": null,
   "metadata": {},
   "outputs": [],
   "source": [
    "tweetsTokenized = Parallel(n_jobs=16)(delayed(TokenizeSentence)(text) for text in tqdm(tweetsDataframe['plainText']))\n",
    "tweetsDataframe['textTokenized'] = tweetsTokenized"
   ]
  },
  {
   "cell_type": "code",
   "execution_count": null,
   "metadata": {},
   "outputs": [],
   "source": [
    "tweetsTokenizedStemmed = Parallel(n_jobs=16)(delayed(StemSentence)(text) for text in tqdm(tweetsDataframe['textTokenized']))\n",
    "tweetsDataframe['textTokenizedStemmed'] = tweetsTokenizedStemmed"
   ]
  },
  {
   "cell_type": "code",
   "execution_count": 135,
   "metadata": {},
   "outputs": [],
   "source": [
    "tweetsDataframe.to_pickle('tweetsPickle_onlymentions.pickle')"
   ]
  },
  {
   "cell_type": "markdown",
   "metadata": {},
   "source": [
    "## 1.5 Additional features\n",
    "\n",
    "## Sentiment\n",
    "### https://github.com/cjhutto/vaderSentiment\n",
    "### VADER (Valence Aware Dictionary and sEntiment Reasoner) is a lexicon and rule-based sentiment analysis tool that is specifically attuned to sentiments expressed in social media\n"
   ]
  },
  {
   "cell_type": "code",
   "execution_count": 197,
   "metadata": {},
   "outputs": [
    {
     "name": "stdout",
     "output_type": "stream",
     "text": [
      "Collecting vaderSentiment\n",
      "  Downloading https://files.pythonhosted.org/packages/86/9e/c53e1fc61aac5ee490a6ac5e21b1ac04e55a7c2aba647bb8411c9aadf24e/vaderSentiment-3.2.1-py2.py3-none-any.whl (125kB)\n",
      "Installing collected packages: vaderSentiment\n",
      "Successfully installed vaderSentiment-3.2.1\n"
     ]
    },
    {
     "name": "stderr",
     "output_type": "stream",
     "text": [
      "You are using pip version 10.0.1, however version 19.2.3 is available.\n",
      "You should consider upgrading via the 'python -m pip install --upgrade pip' command.\n"
     ]
    }
   ],
   "source": [
    "!pip install vaderSentiment"
   ]
  },
  {
   "cell_type": "code",
   "execution_count": 136,
   "metadata": {},
   "outputs": [],
   "source": [
    "from vaderSentiment.vaderSentiment import SentimentIntensityAnalyzer\n",
    "analyser = SentimentIntensityAnalyzer()"
   ]
  },
  {
   "cell_type": "markdown",
   "metadata": {},
   "source": [
    "### Vader works with emoticons\n",
    "\n",
    "### analyser.polarity_scores(':) hillary')\n",
    "\n",
    "{'neg': 0.0, 'neu': 0.25, 'pos': 0.75, 'compound': 0.4588}\n",
    "\n",
    "### analyser.polarity_scores(':( hillary')\n",
    "\n",
    "{'neg': 0.744, 'neu': 0.256, 'pos': 0.0, 'compound': -0.4404}\n"
   ]
  },
  {
   "cell_type": "code",
   "execution_count": null,
   "metadata": {},
   "outputs": [],
   "source": [
    "tweetsSentiment = [ analyser.polarity_scores(tweet) for tweet in tqdm(tweetsDataframe['plainText'])]\n",
    "tweetsDataframe['vaderSentiment'] = [sentiment['compound'] for sentiment in tweetsSentiment]"
   ]
  },
  {
   "cell_type": "code",
   "execution_count": null,
   "metadata": {},
   "outputs": [],
   "source": [
    "tweetsDataframe['vaderSentimentDummy'] = 'NEU'\n",
    "tweetsDataframe['vaderSentimentDummy'][tweetsDataframe.vaderSentiment > 0.05] = 'POS'\n",
    "tweetsDataframe['vaderSentimentDummy'][tweetsDataframe.vaderSentiment < -0.05]= 'NEG'"
   ]
  },
  {
   "cell_type": "markdown",
   "metadata": {},
   "source": [
    "## textblob sentiment"
   ]
  },
  {
   "cell_type": "code",
   "execution_count": 17,
   "metadata": {},
   "outputs": [
    {
     "name": "stdout",
     "output_type": "stream",
     "text": [
      "Collecting textblob\n",
      "  Downloading https://files.pythonhosted.org/packages/60/f0/1d9bfcc8ee6b83472ec571406bd0dd51c0e6330ff1a51b2d29861d389e85/textblob-0.15.3-py2.py3-none-any.whl (636kB)\n",
      "Requirement already satisfied: nltk>=3.1 in c:\\users\\andreas\\anaconda3\\lib\\site-packages (from textblob) (3.3)\n",
      "Requirement already satisfied: six in c:\\users\\andreas\\anaconda3\\lib\\site-packages (from nltk>=3.1->textblob) (1.11.0)\n",
      "Installing collected packages: textblob\n",
      "Successfully installed textblob-0.15.3\n"
     ]
    },
    {
     "name": "stderr",
     "output_type": "stream",
     "text": [
      "You are using pip version 10.0.1, however version 19.2.3 is available.\n",
      "You should consider upgrading via the 'python -m pip install --upgrade pip' command.\n"
     ]
    }
   ],
   "source": [
    "!pip install textblob "
   ]
  },
  {
   "cell_type": "code",
   "execution_count": 139,
   "metadata": {},
   "outputs": [],
   "source": [
    "from textblob import TextBlob\n",
    "from textblob.sentiments import PatternAnalyzer,NaiveBayesAnalyzer\n",
    "\n",
    "patternAnalyzer = PatternAnalyzer()"
   ]
  },
  {
   "cell_type": "code",
   "execution_count": null,
   "metadata": {},
   "outputs": [],
   "source": [
    "polarity = [TextBlob(tweet,analyzer = patternAnalyzer).sentiment.polarity for tweet in tqdm(tweetsDataframe['plainText'])]\n",
    "tweetsDataframe['textblobSentiment'] = polarity "
   ]
  },
  {
   "cell_type": "code",
   "execution_count": null,
   "metadata": {},
   "outputs": [],
   "source": [
    "tweetsDataframe['textblobSentimentDummy'] = 'NEU'\n",
    "tweetsDataframe['textblobSentimentDummy'][tweetsDataframe.textblobSentiment > 0.05] = 'POS'\n",
    "tweetsDataframe['textblobSentimentDummy'][tweetsDataframe.textblobSentiment < -0.05] = 'NEG'"
   ]
  },
  {
   "cell_type": "code",
   "execution_count": 156,
   "metadata": {},
   "outputs": [],
   "source": [
    "tweetsDataframe.to_pickle('tweetsPickle_onlymentions_sent.pickle')"
   ]
  }
 ],
 "metadata": {
  "kernelspec": {
   "display_name": "Python 3",
   "language": "python",
   "name": "python3"
  },
  "language_info": {
   "codemirror_mode": {
    "name": "ipython",
    "version": 3
   },
   "file_extension": ".py",
   "mimetype": "text/x-python",
   "name": "python",
   "nbconvert_exporter": "python",
   "pygments_lexer": "ipython3",
   "version": "3.7.0"
  }
 },
 "nbformat": 4,
 "nbformat_minor": 2
}
